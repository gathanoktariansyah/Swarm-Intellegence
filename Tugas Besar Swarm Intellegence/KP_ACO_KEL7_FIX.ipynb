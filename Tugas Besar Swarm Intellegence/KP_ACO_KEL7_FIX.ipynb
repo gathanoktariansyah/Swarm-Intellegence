{
 "cells": [
  {
   "cell_type": "markdown",
   "id": "215d4feb",
   "metadata": {},
   "source": [
    "KELOMPOK 7 - RB [Ant Colony Optimization pada Optimasi Pemiliharaan Gedung Indekos dengan Knapsack Problem Integer 1/0]"
   ]
  },
  {
   "cell_type": "markdown",
   "id": "fd3fc80b",
   "metadata": {},
   "source": [
    "BINTANG ANNISA MAHARANI 120450002 -\n",
    "GATHAN OKTARIANSYAH 120450010 -\n",
    "MASAYU FRANSTIKA 120450016 -\n",
    "SILVIA DAMAYANTI 120450046"
   ]
  },
  {
   "cell_type": "code",
   "execution_count": 4655,
   "id": "369e2b3e",
   "metadata": {},
   "outputs": [],
   "source": [
    "import pandas as pd\n",
    "import numpy as np\n",
    "import matplotlib.pyplot as plt\n",
    "import random"
   ]
  },
  {
   "cell_type": "code",
   "execution_count": 4656,
   "id": "ba153305",
   "metadata": {},
   "outputs": [
    {
     "data": {
      "text/plain": [
       "Weight      int64\n",
       "Profit    float64\n",
       "dtype: object"
      ]
     },
     "execution_count": 4656,
     "metadata": {},
     "output_type": "execute_result"
    }
   ],
   "source": [
    "df = pd.read_csv('Data_SI_Kelompok7.csv')\n",
    "df.dtypes"
   ]
  },
  {
   "cell_type": "code",
   "execution_count": 4657,
   "id": "0adfc880",
   "metadata": {
    "scrolled": true
   },
   "outputs": [
    {
     "data": {
      "text/html": [
       "<div>\n",
       "<style scoped>\n",
       "    .dataframe tbody tr th:only-of-type {\n",
       "        vertical-align: middle;\n",
       "    }\n",
       "\n",
       "    .dataframe tbody tr th {\n",
       "        vertical-align: top;\n",
       "    }\n",
       "\n",
       "    .dataframe thead th {\n",
       "        text-align: right;\n",
       "    }\n",
       "</style>\n",
       "<table border=\"1\" class=\"dataframe\">\n",
       "  <thead>\n",
       "    <tr style=\"text-align: right;\">\n",
       "      <th></th>\n",
       "      <th>Weight</th>\n",
       "      <th>Profit</th>\n",
       "    </tr>\n",
       "  </thead>\n",
       "  <tbody>\n",
       "    <tr>\n",
       "      <th>0</th>\n",
       "      <td>47</td>\n",
       "      <td>3.57</td>\n",
       "    </tr>\n",
       "    <tr>\n",
       "      <th>1</th>\n",
       "      <td>42</td>\n",
       "      <td>7.14</td>\n",
       "    </tr>\n",
       "    <tr>\n",
       "      <th>2</th>\n",
       "      <td>21</td>\n",
       "      <td>14.29</td>\n",
       "    </tr>\n",
       "    <tr>\n",
       "      <th>3</th>\n",
       "      <td>14</td>\n",
       "      <td>10.71</td>\n",
       "    </tr>\n",
       "    <tr>\n",
       "      <th>4</th>\n",
       "      <td>23</td>\n",
       "      <td>23.43</td>\n",
       "    </tr>\n",
       "  </tbody>\n",
       "</table>\n",
       "</div>"
      ],
      "text/plain": [
       "   Weight  Profit\n",
       "0      47    3.57\n",
       "1      42    7.14\n",
       "2      21   14.29\n",
       "3      14   10.71\n",
       "4      23   23.43"
      ]
     },
     "execution_count": 4657,
     "metadata": {},
     "output_type": "execute_result"
    }
   ],
   "source": [
    "df.head()\n"
   ]
  },
  {
   "cell_type": "code",
   "execution_count": 4658,
   "id": "618c71b1",
   "metadata": {},
   "outputs": [
    {
     "data": {
      "text/html": [
       "<div>\n",
       "<style scoped>\n",
       "    .dataframe tbody tr th:only-of-type {\n",
       "        vertical-align: middle;\n",
       "    }\n",
       "\n",
       "    .dataframe tbody tr th {\n",
       "        vertical-align: top;\n",
       "    }\n",
       "\n",
       "    .dataframe thead th {\n",
       "        text-align: right;\n",
       "    }\n",
       "</style>\n",
       "<table border=\"1\" class=\"dataframe\">\n",
       "  <thead>\n",
       "    <tr style=\"text-align: right;\">\n",
       "      <th></th>\n",
       "      <th>0</th>\n",
       "      <th>1</th>\n",
       "      <th>2</th>\n",
       "      <th>3</th>\n",
       "      <th>4</th>\n",
       "    </tr>\n",
       "  </thead>\n",
       "  <tbody>\n",
       "    <tr>\n",
       "      <th>0</th>\n",
       "      <td>0</td>\n",
       "      <td>89</td>\n",
       "      <td>68</td>\n",
       "      <td>61</td>\n",
       "      <td>70</td>\n",
       "    </tr>\n",
       "    <tr>\n",
       "      <th>1</th>\n",
       "      <td>89</td>\n",
       "      <td>0</td>\n",
       "      <td>63</td>\n",
       "      <td>56</td>\n",
       "      <td>65</td>\n",
       "    </tr>\n",
       "    <tr>\n",
       "      <th>2</th>\n",
       "      <td>68</td>\n",
       "      <td>63</td>\n",
       "      <td>0</td>\n",
       "      <td>35</td>\n",
       "      <td>44</td>\n",
       "    </tr>\n",
       "    <tr>\n",
       "      <th>3</th>\n",
       "      <td>61</td>\n",
       "      <td>56</td>\n",
       "      <td>35</td>\n",
       "      <td>0</td>\n",
       "      <td>37</td>\n",
       "    </tr>\n",
       "    <tr>\n",
       "      <th>4</th>\n",
       "      <td>70</td>\n",
       "      <td>65</td>\n",
       "      <td>44</td>\n",
       "      <td>37</td>\n",
       "      <td>0</td>\n",
       "    </tr>\n",
       "  </tbody>\n",
       "</table>\n",
       "</div>"
      ],
      "text/plain": [
       "    0   1   2   3   4\n",
       "0   0  89  68  61  70\n",
       "1  89   0  63  56  65\n",
       "2  68  63   0  35  44\n",
       "3  61  56  35   0  37\n",
       "4  70  65  44  37   0"
      ]
     },
     "execution_count": 4658,
     "metadata": {},
     "output_type": "execute_result"
    }
   ],
   "source": [
    "weights = df['Weight'].values\n",
    "datas = [[weights[i] + weights[j] if i!=j else 0 for j in range(len(weights))] for i in range(len(weights))]\n",
    "adj_mat_w = pd.DataFrame(datas)\n",
    "adj_mat_w.head()"
   ]
  },
  {
   "cell_type": "code",
   "execution_count": 4659,
   "id": "d8f9c0cd",
   "metadata": {},
   "outputs": [
    {
     "data": {
      "text/html": [
       "<div>\n",
       "<style scoped>\n",
       "    .dataframe tbody tr th:only-of-type {\n",
       "        vertical-align: middle;\n",
       "    }\n",
       "\n",
       "    .dataframe tbody tr th {\n",
       "        vertical-align: top;\n",
       "    }\n",
       "\n",
       "    .dataframe thead th {\n",
       "        text-align: right;\n",
       "    }\n",
       "</style>\n",
       "<table border=\"1\" class=\"dataframe\">\n",
       "  <thead>\n",
       "    <tr style=\"text-align: right;\">\n",
       "      <th></th>\n",
       "      <th>0</th>\n",
       "      <th>1</th>\n",
       "      <th>2</th>\n",
       "      <th>3</th>\n",
       "      <th>4</th>\n",
       "    </tr>\n",
       "  </thead>\n",
       "  <tbody>\n",
       "    <tr>\n",
       "      <th>0</th>\n",
       "      <td>0.00</td>\n",
       "      <td>10.71</td>\n",
       "      <td>17.86</td>\n",
       "      <td>14.28</td>\n",
       "      <td>27.00</td>\n",
       "    </tr>\n",
       "    <tr>\n",
       "      <th>1</th>\n",
       "      <td>10.71</td>\n",
       "      <td>0.00</td>\n",
       "      <td>21.43</td>\n",
       "      <td>17.85</td>\n",
       "      <td>30.57</td>\n",
       "    </tr>\n",
       "    <tr>\n",
       "      <th>2</th>\n",
       "      <td>17.86</td>\n",
       "      <td>21.43</td>\n",
       "      <td>0.00</td>\n",
       "      <td>25.00</td>\n",
       "      <td>37.72</td>\n",
       "    </tr>\n",
       "    <tr>\n",
       "      <th>3</th>\n",
       "      <td>14.28</td>\n",
       "      <td>17.85</td>\n",
       "      <td>25.00</td>\n",
       "      <td>0.00</td>\n",
       "      <td>34.14</td>\n",
       "    </tr>\n",
       "    <tr>\n",
       "      <th>4</th>\n",
       "      <td>27.00</td>\n",
       "      <td>30.57</td>\n",
       "      <td>37.72</td>\n",
       "      <td>34.14</td>\n",
       "      <td>0.00</td>\n",
       "    </tr>\n",
       "  </tbody>\n",
       "</table>\n",
       "</div>"
      ],
      "text/plain": [
       "       0      1      2      3      4\n",
       "0   0.00  10.71  17.86  14.28  27.00\n",
       "1  10.71   0.00  21.43  17.85  30.57\n",
       "2  17.86  21.43   0.00  25.00  37.72\n",
       "3  14.28  17.85  25.00   0.00  34.14\n",
       "4  27.00  30.57  37.72  34.14   0.00"
      ]
     },
     "execution_count": 4659,
     "metadata": {},
     "output_type": "execute_result"
    }
   ],
   "source": [
    "profits = df['Profit'].values\n",
    "datas2 = [[profits[i] + profits[j] if i!=j else 0 for j in range(len(profits))] for i in range(len(profits))]\n",
    "adj_mat_p = pd.DataFrame(datas2)\n",
    "adj_mat_p.head()"
   ]
  },
  {
   "cell_type": "markdown",
   "id": "7b7bea61",
   "metadata": {},
   "source": [
    "INISIALISASI PHEROMONE"
   ]
  },
  {
   "cell_type": "code",
   "execution_count": 4660,
   "id": "84a1d4f9",
   "metadata": {},
   "outputs": [],
   "source": [
    "n_semut = 3\n",
    "dim_semut = len(profits)\n",
    "tau_awal = 1"
   ]
  },
  {
   "cell_type": "code",
   "execution_count": 4661,
   "id": "18eeb7cf",
   "metadata": {},
   "outputs": [
    {
     "data": {
      "text/html": [
       "<div>\n",
       "<style scoped>\n",
       "    .dataframe tbody tr th:only-of-type {\n",
       "        vertical-align: middle;\n",
       "    }\n",
       "\n",
       "    .dataframe tbody tr th {\n",
       "        vertical-align: top;\n",
       "    }\n",
       "\n",
       "    .dataframe thead th {\n",
       "        text-align: right;\n",
       "    }\n",
       "</style>\n",
       "<table border=\"1\" class=\"dataframe\">\n",
       "  <thead>\n",
       "    <tr style=\"text-align: right;\">\n",
       "      <th></th>\n",
       "      <th>0</th>\n",
       "      <th>1</th>\n",
       "      <th>2</th>\n",
       "      <th>3</th>\n",
       "      <th>4</th>\n",
       "    </tr>\n",
       "  </thead>\n",
       "  <tbody>\n",
       "    <tr>\n",
       "      <th>0</th>\n",
       "      <td>0.0</td>\n",
       "      <td>1.0</td>\n",
       "      <td>1.0</td>\n",
       "      <td>1.0</td>\n",
       "      <td>1.0</td>\n",
       "    </tr>\n",
       "    <tr>\n",
       "      <th>1</th>\n",
       "      <td>1.0</td>\n",
       "      <td>0.0</td>\n",
       "      <td>1.0</td>\n",
       "      <td>1.0</td>\n",
       "      <td>1.0</td>\n",
       "    </tr>\n",
       "    <tr>\n",
       "      <th>2</th>\n",
       "      <td>1.0</td>\n",
       "      <td>1.0</td>\n",
       "      <td>0.0</td>\n",
       "      <td>1.0</td>\n",
       "      <td>1.0</td>\n",
       "    </tr>\n",
       "    <tr>\n",
       "      <th>3</th>\n",
       "      <td>1.0</td>\n",
       "      <td>1.0</td>\n",
       "      <td>1.0</td>\n",
       "      <td>0.0</td>\n",
       "      <td>1.0</td>\n",
       "    </tr>\n",
       "    <tr>\n",
       "      <th>4</th>\n",
       "      <td>1.0</td>\n",
       "      <td>1.0</td>\n",
       "      <td>1.0</td>\n",
       "      <td>1.0</td>\n",
       "      <td>0.0</td>\n",
       "    </tr>\n",
       "  </tbody>\n",
       "</table>\n",
       "</div>"
      ],
      "text/plain": [
       "     0    1    2    3    4\n",
       "0  0.0  1.0  1.0  1.0  1.0\n",
       "1  1.0  0.0  1.0  1.0  1.0\n",
       "2  1.0  1.0  0.0  1.0  1.0\n",
       "3  1.0  1.0  1.0  0.0  1.0\n",
       "4  1.0  1.0  1.0  1.0  0.0"
      ]
     },
     "execution_count": 4661,
     "metadata": {},
     "output_type": "execute_result"
    }
   ],
   "source": [
    "pheromone_weight = np.ones(shape=(dim_semut,dim_semut) * tau_awal)\n",
    "np.fill_diagonal(pheromone_weight,0)\n",
    "pheromone_weight = pd.DataFrame(pheromone_weight)\n",
    "pheromone_weight.head()"
   ]
  },
  {
   "cell_type": "code",
   "execution_count": 4662,
   "id": "98297ab7",
   "metadata": {},
   "outputs": [
    {
     "data": {
      "text/html": [
       "<div>\n",
       "<style scoped>\n",
       "    .dataframe tbody tr th:only-of-type {\n",
       "        vertical-align: middle;\n",
       "    }\n",
       "\n",
       "    .dataframe tbody tr th {\n",
       "        vertical-align: top;\n",
       "    }\n",
       "\n",
       "    .dataframe thead th {\n",
       "        text-align: right;\n",
       "    }\n",
       "</style>\n",
       "<table border=\"1\" class=\"dataframe\">\n",
       "  <thead>\n",
       "    <tr style=\"text-align: right;\">\n",
       "      <th></th>\n",
       "      <th>0</th>\n",
       "      <th>1</th>\n",
       "      <th>2</th>\n",
       "      <th>3</th>\n",
       "      <th>4</th>\n",
       "    </tr>\n",
       "  </thead>\n",
       "  <tbody>\n",
       "    <tr>\n",
       "      <th>0</th>\n",
       "      <td>0.0</td>\n",
       "      <td>1.0</td>\n",
       "      <td>1.0</td>\n",
       "      <td>1.0</td>\n",
       "      <td>1.0</td>\n",
       "    </tr>\n",
       "    <tr>\n",
       "      <th>1</th>\n",
       "      <td>1.0</td>\n",
       "      <td>0.0</td>\n",
       "      <td>1.0</td>\n",
       "      <td>1.0</td>\n",
       "      <td>1.0</td>\n",
       "    </tr>\n",
       "    <tr>\n",
       "      <th>2</th>\n",
       "      <td>1.0</td>\n",
       "      <td>1.0</td>\n",
       "      <td>0.0</td>\n",
       "      <td>1.0</td>\n",
       "      <td>1.0</td>\n",
       "    </tr>\n",
       "    <tr>\n",
       "      <th>3</th>\n",
       "      <td>1.0</td>\n",
       "      <td>1.0</td>\n",
       "      <td>1.0</td>\n",
       "      <td>0.0</td>\n",
       "      <td>1.0</td>\n",
       "    </tr>\n",
       "    <tr>\n",
       "      <th>4</th>\n",
       "      <td>1.0</td>\n",
       "      <td>1.0</td>\n",
       "      <td>1.0</td>\n",
       "      <td>1.0</td>\n",
       "      <td>0.0</td>\n",
       "    </tr>\n",
       "  </tbody>\n",
       "</table>\n",
       "</div>"
      ],
      "text/plain": [
       "     0    1    2    3    4\n",
       "0  0.0  1.0  1.0  1.0  1.0\n",
       "1  1.0  0.0  1.0  1.0  1.0\n",
       "2  1.0  1.0  0.0  1.0  1.0\n",
       "3  1.0  1.0  1.0  0.0  1.0\n",
       "4  1.0  1.0  1.0  1.0  0.0"
      ]
     },
     "execution_count": 4662,
     "metadata": {},
     "output_type": "execute_result"
    }
   ],
   "source": [
    "pheromone_profit = np.ones(shape=(dim_semut,dim_semut) * tau_awal)\n",
    "np.fill_diagonal(pheromone_profit,0)\n",
    "pheromone_profit = pd.DataFrame(pheromone_profit)\n",
    "pheromone_profit.head()"
   ]
  },
  {
   "cell_type": "code",
   "execution_count": 4663,
   "id": "82078b88",
   "metadata": {},
   "outputs": [],
   "source": [
    "n_partikel = 3\n",
    "weights = df['Weight'].values\n",
    "profits = df['Profit'].values\n",
    "n_dim = len(weights)"
   ]
  },
  {
   "cell_type": "code",
   "execution_count": 4664,
   "id": "e1fb7ebd",
   "metadata": {},
   "outputs": [],
   "source": [
    "def f_con_w(X,weights,lim):\n",
    "    ws= sum(map(lambda x,w: x*w, X, weights))\n",
    "    return ws <= lim\n",
    "\n",
    "def f_obj(X,profits):\n",
    "    return sum(map(lambda x,p: x*p, X, profits))\n",
    "\n",
    "def fitness(X,profits,weights,lim):\n",
    "  return f_obj(X,profits) if f_con_w(X,weights,lim) else 0"
   ]
  },
  {
   "cell_type": "code",
   "execution_count": 4665,
   "id": "4096b632",
   "metadata": {},
   "outputs": [
    {
     "data": {
      "text/plain": [
       "30"
      ]
     },
     "execution_count": 4665,
     "metadata": {},
     "output_type": "execute_result"
    }
   ],
   "source": [
    "f_obj(range(dim_semut),adj_mat_w)"
   ]
  },
  {
   "cell_type": "code",
   "execution_count": 4666,
   "id": "e68e0891",
   "metadata": {},
   "outputs": [],
   "source": [
    "not_take = [i for i in range(dim_semut)]\n",
    "semut = [[[],not_take] for i in range(n_semut)]"
   ]
  },
  {
   "cell_type": "code",
   "execution_count": 4667,
   "id": "5a3c9117",
   "metadata": {},
   "outputs": [
    {
     "name": "stdout",
     "output_type": "stream",
     "text": [
      "[[], [0, 1, 2, 3, 4]]"
     ]
    }
   ],
   "source": [
    "print(semut[0], end='')"
   ]
  },
  {
   "cell_type": "code",
   "execution_count": 4668,
   "id": "4b5f8e4d",
   "metadata": {},
   "outputs": [
    {
     "name": "stdout",
     "output_type": "stream",
     "text": [
      "[[1, 2, 3], [0, 1, 2, 3, 4, 5, 6, 7, 8, 9, 10, 11, 12, 13, 14, 15, 16, 17, 18, 19, 20, 21, 22, 23, 24, 25, 26, 27, 28, 29, 30, 31, 32, 33, 34, 35, 36, 37, 38, 39, 40, 41, 42, 43, 44, 45, 46, 47, 48, 49, 50, 51, 52, 53, 54, 55, 56, 57, 58, 59, 60, 61, 62, 63, 64, 65, 66, 67, 68, 69, 70, 71, 72, 73, 74, 75, 76, 77, 78, 79, 80, 81, 82, 83, 84, 85, 86, 87, 88, 89, 90, 91, 92, 93, 94, 95, 96, 97, 98, 99]]\n"
     ]
    }
   ],
   "source": [
    "def trf_pilih(semut):\n",
    "  barang_dipilih = semut[0] # semut[0] maksudnya elemen dari 1 semut yang visited / barang yang dipilih\n",
    "  arr_kosong = list(map( lambda x:0 ,range( len(semut[0]) + len(semut[1]) ))) # inisialisasi array kosong\n",
    "\n",
    "  for i in range(len(barang_dipilih)):\n",
    "    for j in range(len(arr_kosong)):\n",
    "      if barang_dipilih[i]==j:\n",
    "        arr_kosong[barang_dipilih[i]] = 1\n",
    "  return arr_kosong\n",
    "\n",
    "semut = [ [1,2,3],  [0] + list(range(1,100)) ] \n",
    "print(semut)"
   ]
  },
  {
   "cell_type": "code",
   "execution_count": 4669,
   "id": "c046b9d8",
   "metadata": {},
   "outputs": [
    {
     "name": "stdout",
     "output_type": "stream",
     "text": [
      "[0, 1, 1, 1, 0, 0, 0, 0, 0, 0, 0, 0, 0, 0, 0, 0, 0, 0, 0, 0, 0, 0, 0, 0, 0, 0, 0, 0, 0, 0, 0, 0, 0, 0, 0, 0, 0, 0, 0, 0, 0, 0, 0, 0, 0, 0, 0, 0, 0, 0, 0, 0, 0, 0, 0, 0, 0, 0, 0, 0, 0, 0, 0, 0, 0, 0, 0, 0, 0, 0, 0, 0, 0, 0, 0, 0, 0, 0, 0, 0, 0, 0, 0, 0, 0, 0, 0, 0, 0, 0, 0, 0, 0, 0, 0, 0, 0, 0, 0, 0, 0, 0, 0]\n"
     ]
    }
   ],
   "source": [
    "transformed = trf_pilih(semut)\n",
    "print(transformed)"
   ]
  },
  {
   "cell_type": "code",
   "execution_count": 4670,
   "id": "64fee4d5",
   "metadata": {
    "scrolled": true
   },
   "outputs": [
    {
     "data": {
      "text/plain": [
       "6"
      ]
     },
     "execution_count": 4670,
     "metadata": {},
     "output_type": "execute_result"
    }
   ],
   "source": [
    "fitness(transformed,adj_mat_p,adj_mat_w,100)"
   ]
  },
  {
   "cell_type": "markdown",
   "id": "509ed26a",
   "metadata": {},
   "source": [
    "DISKRITISASI"
   ]
  },
  {
   "cell_type": "code",
   "execution_count": 4671,
   "id": "b2896c0d",
   "metadata": {},
   "outputs": [],
   "source": [
    "def sigmoid(x):\n",
    "    return 1/(np.exp(-x) + 1)\n",
    "\n",
    "def diskritize(individus):\n",
    "    return np.round(sigmoid(individus))"
   ]
  },
  {
   "cell_type": "code",
   "execution_count": 4672,
   "id": "c2c7a6d0",
   "metadata": {},
   "outputs": [
    {
     "data": {
      "text/plain": [
       "array([[ 0.71213854, -0.75319745,  0.50823008, -1.90592102, -0.08009617],\n",
       "       [ 2.09500951, -0.75085219, -2.81864706,  3.37341565,  0.07830086],\n",
       "       [ 0.70396348,  1.71499991, -2.01379031,  2.3980451 ,  3.28938929]])"
      ]
     },
     "execution_count": 4672,
     "metadata": {},
     "output_type": "execute_result"
    }
   ],
   "source": [
    "x = np.random.uniform(-4,4,(n_partikel,n_dim))\n",
    "x"
   ]
  },
  {
   "cell_type": "code",
   "execution_count": 4673,
   "id": "41b2555b",
   "metadata": {},
   "outputs": [
    {
     "data": {
      "text/plain": [
       "array([[0.67087353, 0.32012499, 0.62439147, 0.1294398 , 0.47998666],\n",
       "       [0.89041718, 0.32063564, 0.0563248 , 0.9668633 , 0.51956522],\n",
       "       [0.66906594, 0.84748367, 0.11776261, 0.91667811, 0.964063  ]])"
      ]
     },
     "execution_count": 4673,
     "metadata": {},
     "output_type": "execute_result"
    }
   ],
   "source": [
    "sigmoid(x)"
   ]
  },
  {
   "cell_type": "code",
   "execution_count": 4674,
   "id": "b3ba2218",
   "metadata": {},
   "outputs": [
    {
     "data": {
      "text/plain": [
       "array([[1, 0, 1, 0, 0],\n",
       "       [1, 0, 0, 1, 1],\n",
       "       [1, 1, 0, 1, 1]])"
      ]
     },
     "execution_count": 4674,
     "metadata": {},
     "output_type": "execute_result"
    }
   ],
   "source": [
    "k = np.vectorize(lambda x : round(x))\n",
    "k(sigmoid(x))"
   ]
  },
  {
   "cell_type": "code",
   "execution_count": 4675,
   "id": "85934eec",
   "metadata": {},
   "outputs": [
    {
     "data": {
      "text/plain": [
       "array([1, 0, 0, 1, 1])"
      ]
     },
     "execution_count": 4675,
     "metadata": {},
     "output_type": "execute_result"
    }
   ],
   "source": [
    "d_partikel = k(sigmoid(x))\n",
    "d_partikel[1]"
   ]
  },
  {
   "cell_type": "code",
   "execution_count": 4676,
   "id": "bf4fc3dc",
   "metadata": {},
   "outputs": [],
   "source": [
    "def generate_individus(n_semut,dim_semut,a,b):\n",
    "    return np.random.uniform(a,b,size=(n_semut,dim_semut))\n",
    "\n",
    "individus = generate_individus(n_semut,dim_semut,-4,4)"
   ]
  },
  {
   "cell_type": "code",
   "execution_count": 4677,
   "id": "6012df5a",
   "metadata": {},
   "outputs": [],
   "source": [
    "def calc_fitness(individus,profits,weights,lim):\n",
    "  return np.array([[fitness(i,adj_mat_p,adj_mat_w,100) for i in individus]])\n",
    "\n",
    "def individu_w_f(individus,fitness_n_semut):\n",
    "  return np.concatenate((individus,fitness_n_semut),axis=1)\n",
    "\n",
    "def sort_individu(individus_w_fitness):\n",
    "      return individus_w_fitness[individus_w_fitness[:,-1].argsort()]"
   ]
  },
  {
   "cell_type": "code",
   "execution_count": 4678,
   "id": "c98b0bc9",
   "metadata": {},
   "outputs": [],
   "source": [
    "fitness_n_semut = calc_fitness(individus,adj_mat_p,adj_mat_w,1000)\n",
    "#i_w_f = individu_w_f(individus,fitness_n_semut)\n",
    "individu_sorted = sort_individu(fitness_n_semut)"
   ]
  },
  {
   "cell_type": "code",
   "execution_count": 4679,
   "id": "b3a76cae",
   "metadata": {},
   "outputs": [
    {
     "data": {
      "text/plain": [
       "array([[12.41887412, -3.28429671, 14.253392  ]])"
      ]
     },
     "execution_count": 4679,
     "metadata": {},
     "output_type": "execute_result"
    }
   ],
   "source": [
    "fitness_n_semut"
   ]
  },
  {
   "cell_type": "code",
   "execution_count": 4680,
   "id": "912eadbf",
   "metadata": {},
   "outputs": [],
   "source": [
    "def generate_adj_mat_profit(df):\n",
    "    profits = df['Profit'].values\n",
    "    datas2 = [[profits[i] + profits[j] if i!=j else 0 for j in range(len(profits))] for i in range(len(profits))]\n",
    "    adj_mat_p = pd.DataFrame(datas2)\n",
    "    return adj_mat_p\n",
    "\n",
    "def generate_adj_mat_weight(df):\n",
    "    weights = df['Weight'].values\n",
    "    datas = [[weights[i] + weights[j] if i!=j else 0 for j in range(len(weights))] for i in range(len(weights))]\n",
    "    adj_mat_w = pd.DataFrame(datas)\n",
    "    return adj_mat_w\n",
    "\n",
    "def generate_1_semut(ndim):\n",
    "    return [[], list(range(ndim))]\n",
    " \n",
    "def generate_individus(n_individu,ndim):\n",
    "    return [generate_1_semut(ndim) for i in range(n_individu)]\n",
    "\n",
    "def generate_pheromones(ndim,tau_awal):\n",
    "    pheromones = np.ones(shape=(ndim,ndim)) * tau_awal\n",
    "    np.fill_diagonal(pheromones,0)\n",
    "    return pd.DataFrame(pheromones)\n",
    "\n",
    "def generate_delta_pheromones(dim_semut):\n",
    "    return generate_pheromones(dim_semut,0)\n",
    "\n",
    "def trf_pilih(barang_dipilih,ndim):\n",
    "    arr_kosong = list(map( lambda x:0 ,range(ndim))) # inisialisasi array kosong\n",
    "   \n",
    "    for i in range(len(barang_dipilih)):\n",
    "        for j in range(len(arr_kosong)):\n",
    "            if barang_dipilih[i]==j:\n",
    "                arr_kosong[barang_dipilih[i]] = 1\n",
    "    return arr_kosong\n",
    "\n",
    "def f_obj(X,profits):\n",
    "    return sum(map(lambda x,p: x*p, X, profits))\n",
    "\n",
    "def f_con_w(X,weights,lim):\n",
    "    ws = sum(map(lambda x,w: x*w, X, weights))\n",
    "    return ws <= lim\n",
    "\n",
    "def ro_1(el_c,el_t,pher,adj_mat,params):\n",
    "    return ( pher.iloc[el_c,el_t] )**params['alpha'] * ( 1/adj_mat.iloc[el_c,el_t])**params['beta']\n",
    "\n",
    "def ro_1_all(semut,pher,adj_mat,params):\n",
    "    return [ ro_1(semut[0][-1],el_t,pher,adj_mat,params) for el_t in semut[1] ]\n",
    "\n",
    "def transition_prob(semut,pher,adj_mat,params):\n",
    "    pher = generate_pheromones(params['ndim'],1)\n",
    "    adj_mat = generate_adj_mat_profit(df)\n",
    "    r = ro_1_all(semut,pher,adj_mat,params)\n",
    "    total_prob = sum(r)\n",
    "    return [p/total_prob for p in r]\n",
    "\n",
    "def pilih_next_barang(semut,pher,adj_mat,params):\n",
    "    df_prob = pd.DataFrame( {'next':semut[1] , 'prob':transition_prob(semut,pher,adj_mat,params) } )\n",
    "    number = np.random.rand(1)\n",
    "    if number > 0.5:\n",
    "        choosen = df_prob.sample(n=1,weights='prob').iloc[0,0]\n",
    "        return nv_to_v(semut,choosen)\n",
    "    else:\n",
    "        return semut\n",
    "\n",
    "def pilih_next_barang_semua(semut,pher,adj_mat,params):\n",
    "    return [pilih_next_barang(s,pher,adj_mat,params) for s in semut]\n",
    "\n",
    "def f(X,adj_mat,tipe='full'):\n",
    "    return sum([ adj_mat.iloc[ X[i],X[i+1] ] for i in range(len(X) - 1) ]) + (adj_mat.iloc[ X[-1],X[0] ] if tipe=='full' else 0)\n",
    "\n",
    "def update_delta_pheromones(semut,delta_pher,adj_mat,params):\n",
    "    temp = generate_delta_pheromones(params['ndim'])\n",
    "    for s in semut:\n",
    "        Lk = f_obj(s[0],adj_mat)\n",
    "        if len(s[0]) >= 2:\n",
    "            temp.loc[ s[0][-2] ][ s[0][-1] ] = delta_pher[ s[0][-2] ][ s[0][-1] ] + (params['Q']/Lk)\n",
    "    return temp\n",
    "\n",
    "def update_pheromones(pher,delta_pher,semut,adj_mat_p,params):\n",
    "    return params['rho'] * pher + update_delta_pheromones(semut,delta_pher,adj_mat_p,params)\n",
    "\n",
    "def sol(semut):\n",
    "    return np.array([s[0] for s in semut])\n",
    "\n",
    "def calc_fitness(X,adj_mat_p,adj_mat_w,lim): \n",
    "    return f_obj(X,adj_mat_p) if f_con_w(X,adj_mat_w,lim) else 0\n",
    "\n",
    "def calc_fitness_all(semut,adj_mat_p,adj_mat_w,lim,ndim):\n",
    "    return np.array([calc_fitness(trf_pilih(s,ndim),adj_mat_p,adj_mat_w,lim) for s in semut])\n",
    "\n",
    "def find_best(sl,fitness):\n",
    "    idxs = np.argsort(fitness)\n",
    "    return np.append(sl[idxs][0],fitness[idxs][0])\n",
    "\n",
    "def nv_to_v(semut,el):\n",
    "    temp = semut.copy()\n",
    "    temp[0].append(el)\n",
    "    temp[1].remove(el)\n",
    "    return temp\n",
    "\n",
    "def initialization(semut):\n",
    "    return [ nv_to_v(s,s[1][ np.random.randint(0,len(s[1]))] ) for s in semut ]\n",
    "\n",
    "def satu_cycle(pheromones,adj_mat_p,adj_mat_w,params):\n",
    "    semut = generate_individus(params['n_individu'],params['ndim'])\n",
    "    semut = initialization(semut)\n",
    "    delta_pheromones = generate_delta_pheromones(params['ndim'])\n",
    "    \n",
    "    t = 1\n",
    "    while t < params['ndim']:\n",
    "        semut = pilih_next_barang_semua(semut,pheromones.values,adj_mat_p,params)\n",
    "        pheromones = update_pheromones(pheromones,delta_pheromones,semut,adj_mat_p,params)\n",
    "        delta_pheromones = generate_delta_pheromones(params['ndim'])\n",
    "        t += 1\n",
    "    \n",
    "    sl = sol(semut)\n",
    "    fitness = calc_fitness_all(sl,adj_mat_p,adj_mat_w,params['lim'],params['ndim'])\n",
    "    return find_best(sl,fitness),pheromones\n",
    "\n",
    "def ACO(params,df):\n",
    "    adj_mat_p = generate_adj_mat_profit(df)\n",
    "    adj_mat_w = generate_adj_mat_weight(df)\n",
    "    generasi = 0\n",
    "    bests = []\n",
    "    pheromones = generate_pheromones(params['ndim'],1)\n",
    "    delta_pheromones = generate_delta_pheromones(params['ndim'])\n",
    "    \n",
    "    while generasi < params['max_generasi']:\n",
    "        best,pheromones = satu_cycle(pheromones,adj_mat_p,adj_mat_w,params)\n",
    "        bests.append(  trf_pilih(best[:-1].tolist(), params['ndim'] ) + [best.tolist()[-1] ])\n",
    "        generasi += 1\n",
    "        \n",
    "    return pd.DataFrame(bests)"
   ]
  },
  {
   "cell_type": "code",
   "execution_count": 4681,
   "id": "ca4f51bc",
   "metadata": {},
   "outputs": [
    {
     "name": "stderr",
     "output_type": "stream",
     "text": [
      "C:\\Users\\ASUS\\AppData\\Local\\Temp/ipykernel_14552/4178307122.py:76: RuntimeWarning: divide by zero encountered in longlong_scalars\n",
      "  temp.loc[ s[0][-2] ][ s[0][-1] ] = delta_pher[ s[0][-2] ][ s[0][-1] ] + (params['Q']/Lk)\n",
      "C:\\Users\\ASUS\\AppData\\Local\\Temp/ipykernel_14552/4178307122.py:83: VisibleDeprecationWarning: Creating an ndarray from ragged nested sequences (which is a list-or-tuple of lists-or-tuples-or ndarrays with different lengths or shapes) is deprecated. If you meant to do this, you must specify 'dtype=object' when creating the ndarray.\n",
      "  return np.array([s[0] for s in semut])\n"
     ]
    }
   ],
   "source": [
    "prof = df['Profit'].values\n",
    "\n",
    "params = {\n",
    "    'alpha': 1,\n",
    "    'beta': 1,\n",
    "    'rho': 0.7,\n",
    "    'Q': 1,\n",
    "    'n_individu':10,\n",
    "    'ndim':len(prof),\n",
    "    'lim':100,\n",
    "    'max_generasi':7\n",
    "}\n",
    "\n",
    "hasil = ACO(params,df)\n",
    "df_hasil = pd.DataFrame(hasil)"
   ]
  },
  {
   "cell_type": "code",
   "execution_count": 4682,
   "id": "9fc0ba22",
   "metadata": {},
   "outputs": [
    {
     "data": {
      "text/html": [
       "<div>\n",
       "<style scoped>\n",
       "    .dataframe tbody tr th:only-of-type {\n",
       "        vertical-align: middle;\n",
       "    }\n",
       "\n",
       "    .dataframe tbody tr th {\n",
       "        vertical-align: top;\n",
       "    }\n",
       "\n",
       "    .dataframe thead th {\n",
       "        text-align: right;\n",
       "    }\n",
       "</style>\n",
       "<table border=\"1\" class=\"dataframe\">\n",
       "  <thead>\n",
       "    <tr style=\"text-align: right;\">\n",
       "      <th></th>\n",
       "      <th>0</th>\n",
       "      <th>1</th>\n",
       "      <th>2</th>\n",
       "      <th>3</th>\n",
       "      <th>4</th>\n",
       "      <th>5</th>\n",
       "    </tr>\n",
       "  </thead>\n",
       "  <tbody>\n",
       "    <tr>\n",
       "      <th>0</th>\n",
       "      <td>1</td>\n",
       "      <td>1</td>\n",
       "      <td>0</td>\n",
       "      <td>0</td>\n",
       "      <td>0</td>\n",
       "      <td>1</td>\n",
       "    </tr>\n",
       "    <tr>\n",
       "      <th>1</th>\n",
       "      <td>1</td>\n",
       "      <td>1</td>\n",
       "      <td>0</td>\n",
       "      <td>0</td>\n",
       "      <td>0</td>\n",
       "      <td>1</td>\n",
       "    </tr>\n",
       "    <tr>\n",
       "      <th>2</th>\n",
       "      <td>0</td>\n",
       "      <td>0</td>\n",
       "      <td>1</td>\n",
       "      <td>0</td>\n",
       "      <td>0</td>\n",
       "      <td>2</td>\n",
       "    </tr>\n",
       "    <tr>\n",
       "      <th>3</th>\n",
       "      <td>0</td>\n",
       "      <td>1</td>\n",
       "      <td>0</td>\n",
       "      <td>0</td>\n",
       "      <td>0</td>\n",
       "      <td>1</td>\n",
       "    </tr>\n",
       "    <tr>\n",
       "      <th>4</th>\n",
       "      <td>1</td>\n",
       "      <td>0</td>\n",
       "      <td>0</td>\n",
       "      <td>0</td>\n",
       "      <td>0</td>\n",
       "      <td>0</td>\n",
       "    </tr>\n",
       "    <tr>\n",
       "      <th>5</th>\n",
       "      <td>1</td>\n",
       "      <td>1</td>\n",
       "      <td>0</td>\n",
       "      <td>0</td>\n",
       "      <td>0</td>\n",
       "      <td>1</td>\n",
       "    </tr>\n",
       "    <tr>\n",
       "      <th>6</th>\n",
       "      <td>1</td>\n",
       "      <td>1</td>\n",
       "      <td>0</td>\n",
       "      <td>0</td>\n",
       "      <td>0</td>\n",
       "      <td>1</td>\n",
       "    </tr>\n",
       "  </tbody>\n",
       "</table>\n",
       "</div>"
      ],
      "text/plain": [
       "   0  1  2  3  4  5\n",
       "0  1  1  0  0  0  1\n",
       "1  1  1  0  0  0  1\n",
       "2  0  0  1  0  0  2\n",
       "3  0  1  0  0  0  1\n",
       "4  1  0  0  0  0  0\n",
       "5  1  1  0  0  0  1\n",
       "6  1  1  0  0  0  1"
      ]
     },
     "execution_count": 4682,
     "metadata": {},
     "output_type": "execute_result"
    }
   ],
   "source": [
    "hasil"
   ]
  },
  {
   "cell_type": "code",
   "execution_count": 4683,
   "id": "8c1eb4cf",
   "metadata": {},
   "outputs": [],
   "source": [
    "semut = generate_individus(params['n_individu'],params['ndim'])\n",
    "semut = initialization(semut)\n",
    "\n",
    "sl = sol(semut)\n",
    "\n",
    "\n",
    "\n",
    "arr_kosong = list(map( lambda x:0 ,range( len(sl[0]) + len(sl[1]) ))) # inisialisasi array kosong\n",
    "    \n",
    "for s in range(len(sl)):\n",
    "    barang_dipilih = sl[s]\n",
    "    for i in range(len(barang_dipilih)):\n",
    "        for j in range(len(arr_kosong)):\n",
    "            if barang_dipilih[i]==j:\n",
    "                arr_kosong[barang_dipilih[i]] = 1"
   ]
  },
  {
   "cell_type": "code",
   "execution_count": 4684,
   "id": "8616fba2",
   "metadata": {},
   "outputs": [
    {
     "data": {
      "text/plain": [
       "[[[4], [0, 1, 2, 3]],\n",
       " [[3], [0, 1, 2, 4]],\n",
       " [[1], [0, 2, 3, 4]],\n",
       " [[0], [1, 2, 3, 4]],\n",
       " [[1], [0, 2, 3, 4]],\n",
       " [[1], [0, 2, 3, 4]],\n",
       " [[0], [1, 2, 3, 4]],\n",
       " [[4], [0, 1, 2, 3]],\n",
       " [[1], [0, 2, 3, 4]],\n",
       " [[4], [0, 1, 2, 3]]]"
      ]
     },
     "execution_count": 4684,
     "metadata": {},
     "output_type": "execute_result"
    }
   ],
   "source": [
    "semut"
   ]
  },
  {
   "cell_type": "code",
   "execution_count": 4685,
   "id": "b69a03a5",
   "metadata": {},
   "outputs": [
    {
     "data": {
      "text/plain": [
       "array([[4],\n",
       "       [3],\n",
       "       [1],\n",
       "       [0],\n",
       "       [1],\n",
       "       [1],\n",
       "       [0],\n",
       "       [4],\n",
       "       [1],\n",
       "       [4]])"
      ]
     },
     "execution_count": 4685,
     "metadata": {},
     "output_type": "execute_result"
    }
   ],
   "source": [
    "sl"
   ]
  },
  {
   "cell_type": "code",
   "execution_count": 4686,
   "id": "9e45cdf6",
   "metadata": {},
   "outputs": [
    {
     "data": {
      "text/html": [
       "<div>\n",
       "<style scoped>\n",
       "    .dataframe tbody tr th:only-of-type {\n",
       "        vertical-align: middle;\n",
       "    }\n",
       "\n",
       "    .dataframe tbody tr th {\n",
       "        vertical-align: top;\n",
       "    }\n",
       "\n",
       "    .dataframe thead th {\n",
       "        text-align: right;\n",
       "    }\n",
       "</style>\n",
       "<table border=\"1\" class=\"dataframe\">\n",
       "  <thead>\n",
       "    <tr style=\"text-align: right;\">\n",
       "      <th></th>\n",
       "      <th>0</th>\n",
       "      <th>1</th>\n",
       "      <th>2</th>\n",
       "      <th>3</th>\n",
       "      <th>4</th>\n",
       "      <th>5</th>\n",
       "    </tr>\n",
       "  </thead>\n",
       "  <tbody>\n",
       "    <tr>\n",
       "      <th>0</th>\n",
       "      <td>1</td>\n",
       "      <td>1</td>\n",
       "      <td>0</td>\n",
       "      <td>0</td>\n",
       "      <td>0</td>\n",
       "      <td>1</td>\n",
       "    </tr>\n",
       "    <tr>\n",
       "      <th>1</th>\n",
       "      <td>1</td>\n",
       "      <td>1</td>\n",
       "      <td>0</td>\n",
       "      <td>0</td>\n",
       "      <td>0</td>\n",
       "      <td>1</td>\n",
       "    </tr>\n",
       "    <tr>\n",
       "      <th>2</th>\n",
       "      <td>0</td>\n",
       "      <td>0</td>\n",
       "      <td>1</td>\n",
       "      <td>0</td>\n",
       "      <td>0</td>\n",
       "      <td>2</td>\n",
       "    </tr>\n",
       "    <tr>\n",
       "      <th>3</th>\n",
       "      <td>0</td>\n",
       "      <td>1</td>\n",
       "      <td>0</td>\n",
       "      <td>0</td>\n",
       "      <td>0</td>\n",
       "      <td>1</td>\n",
       "    </tr>\n",
       "    <tr>\n",
       "      <th>4</th>\n",
       "      <td>1</td>\n",
       "      <td>0</td>\n",
       "      <td>0</td>\n",
       "      <td>0</td>\n",
       "      <td>0</td>\n",
       "      <td>0</td>\n",
       "    </tr>\n",
       "    <tr>\n",
       "      <th>5</th>\n",
       "      <td>1</td>\n",
       "      <td>1</td>\n",
       "      <td>0</td>\n",
       "      <td>0</td>\n",
       "      <td>0</td>\n",
       "      <td>1</td>\n",
       "    </tr>\n",
       "    <tr>\n",
       "      <th>6</th>\n",
       "      <td>1</td>\n",
       "      <td>1</td>\n",
       "      <td>0</td>\n",
       "      <td>0</td>\n",
       "      <td>0</td>\n",
       "      <td>1</td>\n",
       "    </tr>\n",
       "  </tbody>\n",
       "</table>\n",
       "</div>"
      ],
      "text/plain": [
       "   0  1  2  3  4  5\n",
       "0  1  1  0  0  0  1\n",
       "1  1  1  0  0  0  1\n",
       "2  0  0  1  0  0  2\n",
       "3  0  1  0  0  0  1\n",
       "4  1  0  0  0  0  0\n",
       "5  1  1  0  0  0  1\n",
       "6  1  1  0  0  0  1"
      ]
     },
     "execution_count": 4686,
     "metadata": {},
     "output_type": "execute_result"
    }
   ],
   "source": [
    "df_hasil"
   ]
  },
  {
   "cell_type": "code",
   "execution_count": 4687,
   "id": "bf3b8217",
   "metadata": {},
   "outputs": [
    {
     "name": "stdout",
     "output_type": "stream",
     "text": [
      "<class 'numpy.int32'>\n"
     ]
    }
   ],
   "source": [
    "print(type(sl[0][0]))"
   ]
  },
  {
   "cell_type": "code",
   "execution_count": 4688,
   "id": "51bc61f6",
   "metadata": {},
   "outputs": [
    {
     "data": {
      "text/html": [
       "<div>\n",
       "<style scoped>\n",
       "    .dataframe tbody tr th:only-of-type {\n",
       "        vertical-align: middle;\n",
       "    }\n",
       "\n",
       "    .dataframe tbody tr th {\n",
       "        vertical-align: top;\n",
       "    }\n",
       "\n",
       "    .dataframe thead th {\n",
       "        text-align: right;\n",
       "    }\n",
       "</style>\n",
       "<table border=\"1\" class=\"dataframe\">\n",
       "  <thead>\n",
       "    <tr style=\"text-align: right;\">\n",
       "      <th></th>\n",
       "      <th>Weight</th>\n",
       "      <th>Profit</th>\n",
       "    </tr>\n",
       "  </thead>\n",
       "  <tbody>\n",
       "    <tr>\n",
       "      <th>count</th>\n",
       "      <td>5.000000</td>\n",
       "      <td>5.000000</td>\n",
       "    </tr>\n",
       "    <tr>\n",
       "      <th>mean</th>\n",
       "      <td>29.400000</td>\n",
       "      <td>11.828000</td>\n",
       "    </tr>\n",
       "    <tr>\n",
       "      <th>std</th>\n",
       "      <td>14.293355</td>\n",
       "      <td>7.617245</td>\n",
       "    </tr>\n",
       "    <tr>\n",
       "      <th>min</th>\n",
       "      <td>14.000000</td>\n",
       "      <td>3.570000</td>\n",
       "    </tr>\n",
       "    <tr>\n",
       "      <th>25%</th>\n",
       "      <td>21.000000</td>\n",
       "      <td>7.140000</td>\n",
       "    </tr>\n",
       "    <tr>\n",
       "      <th>50%</th>\n",
       "      <td>23.000000</td>\n",
       "      <td>10.710000</td>\n",
       "    </tr>\n",
       "    <tr>\n",
       "      <th>75%</th>\n",
       "      <td>42.000000</td>\n",
       "      <td>14.290000</td>\n",
       "    </tr>\n",
       "    <tr>\n",
       "      <th>max</th>\n",
       "      <td>47.000000</td>\n",
       "      <td>23.430000</td>\n",
       "    </tr>\n",
       "  </tbody>\n",
       "</table>\n",
       "</div>"
      ],
      "text/plain": [
       "          Weight     Profit\n",
       "count   5.000000   5.000000\n",
       "mean   29.400000  11.828000\n",
       "std    14.293355   7.617245\n",
       "min    14.000000   3.570000\n",
       "25%    21.000000   7.140000\n",
       "50%    23.000000  10.710000\n",
       "75%    42.000000  14.290000\n",
       "max    47.000000  23.430000"
      ]
     },
     "execution_count": 4688,
     "metadata": {},
     "output_type": "execute_result"
    }
   ],
   "source": [
    "df.describe()"
   ]
  },
  {
   "cell_type": "code",
   "execution_count": 4689,
   "id": "d65aef8a",
   "metadata": {},
   "outputs": [
    {
     "name": "stderr",
     "output_type": "stream",
     "text": [
      "C:\\Users\\ASUS\\AppData\\Local\\Temp/ipykernel_14552/4178307122.py:76: RuntimeWarning: divide by zero encountered in longlong_scalars\n",
      "  temp.loc[ s[0][-2] ][ s[0][-1] ] = delta_pher[ s[0][-2] ][ s[0][-1] ] + (params['Q']/Lk)\n",
      "C:\\Users\\ASUS\\AppData\\Local\\Temp/ipykernel_14552/4178307122.py:83: VisibleDeprecationWarning: Creating an ndarray from ragged nested sequences (which is a list-or-tuple of lists-or-tuples-or ndarrays with different lengths or shapes) is deprecated. If you meant to do this, you must specify 'dtype=object' when creating the ndarray.\n",
      "  return np.array([s[0] for s in semut])\n"
     ]
    },
    {
     "data": {
      "text/plain": [
       "(array([2, 1, 3], dtype=int64),\n",
       "           0         1       2         3       4\n",
       " 0  0.000000  1.090100  0.2401  0.403433  0.3276\n",
       " 1       inf  0.000000  1.0351  0.240100  0.2401\n",
       " 2       inf  1.864009  0.0000  0.365100  0.2401\n",
       " 3  0.573433  1.630100  0.2401  0.000000  0.3626\n",
       " 4  0.240100  0.240100  0.3276  0.809924  0.0000)"
      ]
     },
     "execution_count": 4689,
     "metadata": {},
     "output_type": "execute_result"
    }
   ],
   "source": [
    "adj_mat_p = generate_adj_mat_profit(df)\n",
    "adj_mat_w = generate_adj_mat_weight(df)\n",
    "pheromones = generate_pheromones(params['ndim'],1)\n",
    "\n",
    "satu_cycle(pheromones,adj_mat_p,adj_mat_w,params)"
   ]
  },
  {
   "cell_type": "code",
   "execution_count": 4690,
   "id": "c5d66124",
   "metadata": {},
   "outputs": [
    {
     "data": {
      "text/plain": [
       "<AxesSubplot:>"
      ]
     },
     "execution_count": 4690,
     "metadata": {},
     "output_type": "execute_result"
    },
    {
     "data": {
      "image/png": "[encoded data removed]",
      "text/plain": [
       "<Figure size 432x288 with 1 Axes>"
      ]
     },
     "metadata": {
      "needs_background": "light"
     },
     "output_type": "display_data"
    }
   ],
   "source": [
    "df.plot()"
   ]
  },
  {
   "cell_type": "code",
   "execution_count": 4691,
   "id": "ce8bb3e3",
   "metadata": {},
   "outputs": [
    {
     "data": {
      "text/plain": [
       "<AxesSubplot:>"
      ]
     },
     "execution_count": 4691,
     "metadata": {},
     "output_type": "execute_result"
    },
    {
     "data": {
      "image/png": "[encoded data removed]",
      "text/plain": [
       "<Figure size 432x288 with 1 Axes>"
      ]
     },
     "metadata": {
      "needs_background": "light"
     },
     "output_type": "display_data"
    }
   ],
   "source": [
    "df_hasil.plot()"
   ]
  }
 ],
 "metadata": {
  "interpreter": {
   "hash": "27f6fea6f47ae512550f0b8facdbd035a93e1dd89633f7bf2dd00a2502c71d0d"
  },
  "kernelspec": {
   "display_name": "Python 3.10.0 64-bit",
   "language": "python",
   "name": "python3"
  },
  "language_info": {
   "codemirror_mode": {
    "name": "ipython",
    "version": 3
   },
   "file_extension": ".py",
   "mimetype": "text/x-python",
   "name": "python",
   "nbconvert_exporter": "python",
   "pygments_lexer": "ipython3",
   "version": "3.10.0"
  },
  "varInspector": {
   "cols": {
    "lenName": 16,
    "lenType": 16,
    "lenVar": 40
   },
   "kernels_config": {
    "python": {
     "delete_cmd_postfix": "",
     "delete_cmd_prefix": "del ",
     "library": "var_list.py",
     "varRefreshCmd": "print(var_dic_list())"
    },
    "r": {
     "delete_cmd_postfix": ") ",
     "delete_cmd_prefix": "rm(",
     "library": "var_list.r",
     "varRefreshCmd": "cat(var_dic_list()) "
    }
   },
   "types_to_exclude": [
    "module",
    "function",
    "builtin_function_or_method",
    "instance",
    "_Feature"
   ],
   "window_display": false
  }
 },
 "nbformat": 4,
 "nbformat_minor": 5
}
